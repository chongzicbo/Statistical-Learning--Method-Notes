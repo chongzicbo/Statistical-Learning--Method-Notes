{
 "nbformat": 4,
 "nbformat_minor": 2,
 "metadata": {
  "language_info": {
   "name": "python",
   "codemirror_mode": {
    "name": "ipython",
    "version": 3
   },
   "version": "3.7.4-final"
  },
  "orig_nbformat": 2,
  "file_extension": ".py",
  "mimetype": "text/x-python",
  "name": "python",
  "npconvert_exporter": "python",
  "pygments_lexer": "ipython3",
  "version": 3,
  "kernelspec": {
   "name": "python37464bitanacondavirtualenv63373270bf4e4607865ada7b474fb6cb",
   "display_name": "Python 3.7.4 64-bit ('Anaconda': virtualenv)"
  }
 },
 "cells": [
  {
   "cell_type": "markdown",
   "metadata": {},
   "source": [
    "sklearn中朴素贝叶斯的实现包括三种算法：高斯贝叶斯、多项式贝叶斯和伯努利贝叶斯。\n",
    "* 高斯贝叶斯一般适用于样本分布符合或者类似高斯分布的时候"
   ]
  },
  {
   "cell_type": "code",
   "execution_count": 1,
   "metadata": {},
   "outputs": [],
   "source": [
    "from sklearn import datasets\n",
    "from sklearn.naive_bayes import GaussianNB\n",
    "iris=datasets.load_iris()\n"
   ]
  },
  {
   "cell_type": "code",
   "execution_count": 5,
   "metadata": {},
   "outputs": [
    {
     "data": {
      "text/plain": "((150, 4), (150,))"
     },
     "execution_count": 5,
     "metadata": {},
     "output_type": "execute_result"
    }
   ],
   "source": [
    "iris.data.shape,iris.target.shape"
   ]
  },
  {
   "cell_type": "code",
   "execution_count": 6,
   "metadata": {},
   "outputs": [
    {
     "data": {
      "text/plain": "array([[5.1, 3.5, 1.4, 0.2],\n       [4.9, 3. , 1.4, 0.2],\n       [4.7, 3.2, 1.3, 0.2],\n       [4.6, 3.1, 1.5, 0.2],\n       [5. , 3.6, 1.4, 0.2]])"
     },
     "execution_count": 6,
     "metadata": {},
     "output_type": "execute_result"
    }
   ],
   "source": [
    "iris.data[0:5]"
   ]
  },
  {
   "cell_type": "code",
   "execution_count": 7,
   "metadata": {},
   "outputs": [
    {
     "data": {
      "text/plain": "GaussianNB(priors=None, var_smoothing=1e-09)"
     },
     "execution_count": 7,
     "metadata": {},
     "output_type": "execute_result"
    }
   ],
   "source": [
    "gnb=GaussianNB()\n",
    "gnb.fit(iris.data,iris.target)"
   ]
  },
  {
   "cell_type": "code",
   "execution_count": 9,
   "metadata": {},
   "outputs": [
    {
     "name": "stdout",
     "output_type": "stream",
     "text": "number of mislabeled points out of a total 150 points:6\n"
    }
   ],
   "source": [
    "pred=gnb.predict(iris.data)\n",
    "print(\"number of mislabeled points out of a total %d points:%d\"%(iris.data.shape[0],(iris.target!=pred).sum()))"
   ]
  },
  {
   "cell_type": "markdown",
   "metadata": {},
   "source": [
    "* 多项式贝叶斯一般适用于样本分布符合多项式分布的时候。"
   ]
  },
  {
   "cell_type": "markdown",
   "metadata": {},
   "source": [
    "sklearn.naive_bayes.MultinomialNB(alpha=1.0,fit_prior=True,class_prior=None)\n",
    "alpha默认为1，即平滑参数，也可以设置为其他的数字。<br>\n",
    "fit_prior表示是否设置先验概率分布，不设置的话默认为均匀概率分布。设置的话使用class_prior设置。\n",
    "\n"
   ]
  },
  {
   "cell_type": "code",
   "execution_count": 11,
   "metadata": {},
   "outputs": [
    {
     "name": "stdout",
     "output_type": "stream",
     "text": "[3]\n"
    }
   ],
   "source": [
    "import numpy as np\n",
    "from sklearn.naive_bayes import MultinomialNB\n",
    "X=np.random.randint(5,size=(6,100))\n",
    "y=np.array([1,2,3,4,5,6])\n",
    "clf=MultinomialNB(alpha=1.0,class_prior=None,fit_prior=True)\n",
    "clf.fit(X,y)\n",
    "print(clf.predict(X[2:3]))\n"
   ]
  },
  {
   "cell_type": "markdown",
   "metadata": {},
   "source": [
    "* 伯努利贝叶斯和多项式贝叶斯很相似，他们的不同之处用文本分类可以较好说明：多项式贝叶斯是以单词为粒度来进行文本分类，而伯努利贝叶斯是以文本为粒度进行分类。"
   ]
  },
  {
   "cell_type": "code",
   "execution_count": null,
   "metadata": {},
   "outputs": [],
   "source": [
    "\n",
    "\n"
   ]
  }
 ]
}