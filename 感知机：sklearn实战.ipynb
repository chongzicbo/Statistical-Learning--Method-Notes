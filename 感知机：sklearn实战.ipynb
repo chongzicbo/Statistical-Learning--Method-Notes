{
 "nbformat": 4,
 "nbformat_minor": 2,
 "metadata": {
  "language_info": {
   "name": "python",
   "codemirror_mode": {
    "name": "ipython",
    "version": 3
   },
   "version": "3.7.4-final"
  },
  "orig_nbformat": 2,
  "file_extension": ".py",
  "mimetype": "text/x-python",
  "name": "python",
  "npconvert_exporter": "python",
  "pygments_lexer": "ipython3",
  "version": 3,
  "kernelspec": {
   "name": "python37464bitbasecondad2083fd0aecb4664a0bac3f04053fc79",
   "display_name": "Python 3.7.4 64-bit ('base': conda)"
  }
 },
 "cells": [
  {
   "cell_type": "markdown",
   "metadata": {},
   "source": [
    "首先导入需要的库"
   ]
  },
  {
   "cell_type": "code",
   "execution_count": 1,
   "metadata": {},
   "outputs": [],
   "source": [
    "from sklearn import datasets\n",
    "from sklearn import linear_model\n",
    "import matplotlib.pyplot as plt"
   ]
  },
  {
   "cell_type": "markdown",
   "metadata": {},
   "source": [
    "生成数据集"
   ]
  },
  {
   "cell_type": "code",
   "execution_count": 3,
   "metadata": {},
   "outputs": [],
   "source": [
    "x,y=datasets.make_classification(n_samples=1000,n_features=2,n_informative=1,n_redundant=0,n_clusters_per_class=1,n_classes=2)"
   ]
  },
  {
   "cell_type": "markdown",
   "metadata": {},
   "source": [
    "make_classification方法生成二分类的样本，x表示特征向量，y表示类别向量。具体参数解释如下：\n",
    "* n_samples:生成的样本数量\n",
    "* n_features:生成样本的特征数，特征数=n_informative+n_redundant+n_repeated\n",
    "* n_informative:有信息特征的数量\n",
    "* n_redundant：冗余特征的数量，是informative特征的随机线性组合\n",
    "* n_repeated：重复信息特征的数量，随机提取n_informative和n_redundant特征。\n",
    "* n_clusters_per_class:每个类别包含几个簇\n",
    "* n_classes：生成几个类别\n"
   ]
  },
  {
   "cell_type": "markdown",
   "metadata": {},
   "source": [
    "打印x和y的shape看看"
   ]
  },
  {
   "cell_type": "code",
   "execution_count": 4,
   "metadata": {},
   "outputs": [
    {
     "data": {
      "text/plain": "((1000, 2), (1000,))"
     },
     "execution_count": 4,
     "metadata": {},
     "output_type": "execute_result"
    }
   ],
   "source": [
    "x.shape,y.shape"
   ]
  },
  {
   "cell_type": "markdown",
   "metadata": {},
   "source": [
    "然后将生成的数据集划分成训练数据集和测试数据集，并将两个类别的样本划分开。"
   ]
  },
  {
   "cell_type": "code",
   "execution_count": 41,
   "metadata": {},
   "outputs": [],
   "source": [
    "x_train=x[:800,:] #训练数据的特征\n",
    "y_train=y[:800]\n",
    "x_test=x[800:,:] #测试数据的特征\n",
    "y_test=y[800:]\n",
    "\n",
    "pos_x1=[x[i,0] for i in range(1000) if y[i]==1] #正实例的第一个特征\n",
    "pos_x2=[x[i,1] for i in range(1000) if y[i]==1] #正实例的第二个特征\n",
    "\n",
    "neg_x1=[x[i,0] for i in range(1000) if y[i]==0] #负实例的第一个特征\n",
    "neg_x2=[x[i,1] for i in range(1000) if y[i]==0] #负实例的第二个特征\n",
    "\n"
   ]
  },
  {
   "cell_type": "markdown",
   "metadata": {},
   "source": [
    "开始训练感知机模型"
   ]
  },
  {
   "cell_type": "code",
   "execution_count": 42,
   "metadata": {},
   "outputs": [
    {
     "name": "stdout",
     "output_type": "stream",
     "text": "[[-0.48202542  2.54076376]]\n"
    }
   ],
   "source": [
    "perceptron=linear_model.Perceptron(penalty='l2',fit_intercept=True,max_iter=1000,n_iter_no_change=100,early_stopping=False)\n",
    "perceptron.fit(x_train,y_train)\n",
    "print(perceptron.coef_)"
   ]
  },
  {
   "cell_type": "code",
   "execution_count": 43,
   "metadata": {},
   "outputs": [
    {
     "name": "stdout",
     "output_type": "stream",
     "text": "[-1.]\n"
    }
   ],
   "source": [
    "print(perceptron.intercept_)"
   ]
  },
  {
   "cell_type": "code",
   "execution_count": 44,
   "metadata": {},
   "outputs": [
    {
     "name": "stdout",
     "output_type": "stream",
     "text": "0.825\n"
    }
   ],
   "source": [
    "acc=perceptron.score(x_test,y_test)\n",
    "print(acc)"
   ]
  },
  {
   "cell_type": "code",
   "execution_count": null,
   "metadata": {},
   "outputs": [],
   "source": []
  }
 ]
}