{
 "nbformat": 4,
 "nbformat_minor": 2,
 "metadata": {
  "language_info": {
   "name": "python",
   "codemirror_mode": {
    "name": "ipython",
    "version": 3
   },
   "version": "3.7.4-final"
  },
  "orig_nbformat": 2,
  "file_extension": ".py",
  "mimetype": "text/x-python",
  "name": "python",
  "npconvert_exporter": "python",
  "pygments_lexer": "ipython3",
  "version": 3,
  "kernelspec": {
   "name": "python37464bitanacondavirtualenv63373270bf4e4607865ada7b474fb6cb",
   "display_name": "Python 3.7.4 64-bit ('Anaconda': virtualenv)"
  }
 },
 "cells": [
  {
   "cell_type": "markdown",
   "metadata": {},
   "source": [
    "&emsp;&emsp;$k$近邻算法是机器学习中所有算法理论中最简单、最容易理解的算法。它是基本的分类与回归方法，它的输入为实例的特征向量，通过计算新数据与训练数据特征值之间的距离，然后选取$k$个距离最近的邻居进行分类判断(多数表决)或者回归。如果$k=1$,那么新数据被简单地分配给其近邻的类。<br>\n",
    "&emsp;&emsp;对于分类问题：输出为实例的类别。分类时，对于新的实例，根据最近的$k$个实例的类别通过多数表决的方式进行预测。<br>\n",
    "&emsp;&emsp;对于回归问题：输出为实例的值。回归时，对于新的实例，取其最近的$k$个实例的值的平均值最为预测值。<br>\n",
    "\n",
    "\n"
   ]
  },
  {
   "cell_type": "code",
   "execution_count": 2,
   "metadata": {},
   "outputs": [],
   "source": [
    "import numpy as np\n",
    "import sklearn.datasets as datasets\n",
    "import sklearn.metrics as metrics\n",
    "import sklearn.model_selection as model_selection\n",
    "import sklearn.neighbors as neighbors"
   ]
  },
  {
   "cell_type": "code",
   "execution_count": 3,
   "metadata": {},
   "outputs": [],
   "source": [
    "digits=datasets.load_digits()"
   ]
  },
  {
   "cell_type": "code",
   "execution_count": 8,
   "metadata": {},
   "outputs": [
    {
     "data": {
      "text/plain": "((1797, 64), (1797,))"
     },
     "execution_count": 8,
     "metadata": {},
     "output_type": "execute_result"
    }
   ],
   "source": [
    "digits.data.shape,digits.target.shape\n"
   ]
  },
  {
   "cell_type": "code",
   "execution_count": 9,
   "metadata": {},
   "outputs": [
    {
     "name": "stdout",
     "output_type": "stream",
     "text": "x_train shape: (1347, 64)\ny_train shape: (1347,)\n"
    }
   ],
   "source": [
    "x_train,x_test,y_train,y_test=model_selection.train_test_split(digits.data,digits.target,test_size=0.25,random_state=0,stratify=digits.target)\n",
    "print('x_train shape:',x_train.shape)\n",
    "print('y_train shape:',y_train.shape)"
   ]
  },
  {
   "cell_type": "markdown",
   "metadata": {},
   "source": [
    "自己实现knn：暴力计算"
   ]
  },
  {
   "cell_type": "code",
   "execution_count": 10,
   "metadata": {},
   "outputs": [],
   "source": [
    "def classify(x_train,y_train,k,x):\n",
    "    sources=np.empty(y_train.shape)\n",
    "    for i,e in enumerate(x_train):\n",
    "        d=np.linalg.norm(e-x)\n",
    "        sources[i]=d\n",
    "    indices=np.argsort(sources)[:k]\n",
    "\n",
    "    knn={}\n",
    "    for i in indices:\n",
    "        l=y_train[i]\n",
    "        if l in knn:\n",
    "            knn[l]+=1\n",
    "        else:\n",
    "            knn[l]=1\n",
    "    return max(knn)"
   ]
  },
  {
   "cell_type": "code",
   "execution_count": 11,
   "metadata": {},
   "outputs": [
    {
     "name": "stdout",
     "output_type": "stream",
     "text": "precision    recall  f1-score   support\n\n           0       1.00      1.00      1.00        45\n           1       0.98      0.96      0.97        46\n           2       0.98      0.98      0.98        44\n           3       0.93      0.93      0.93        46\n           4       1.00      0.96      0.98        45\n           5       0.98      0.98      0.98        46\n           6       0.98      1.00      0.99        45\n           7       1.00      1.00      1.00        45\n           8       0.95      0.91      0.93        43\n           9       0.88      0.96      0.91        45\n\n    accuracy                           0.97       450\n   macro avg       0.97      0.97      0.97       450\nweighted avg       0.97      0.97      0.97       450\n\n"
    }
   ],
   "source": [
    "y_pred=np.empty(y_test.shape)\n",
    "for i,e in enumerate(x_test):\n",
    "    y_pred[i]=classify(x_train,y_train,3,e)\n",
    "acc=metrics.classification_report(y_test,y_pred)\n",
    "print(acc)"
   ]
  },
  {
   "cell_type": "markdown",
   "metadata": {},
   "source": [
    "sklean 中实现了三种搜索方式, 分别是 BallTree, KDTree, brute-force. KDTree 是一颗二叉树, BallTree 是 KDTree 的优化版本, 而 brute-force 就是原始的暴力线性扫描. 这里要着重说明的是, KDTree 与 BallTree 虽然优化了搜索速度, 但牺牲了精确度. 因此对于小数据集(如 n < 30), 使用 brute-force 仍然是一个最佳选择."
   ]
  },
  {
   "cell_type": "code",
   "execution_count": 12,
   "metadata": {},
   "outputs": [
    {
     "data": {
      "text/plain": "KNeighborsClassifier(algorithm='auto', leaf_size=30, metric='minkowski',\n                     metric_params=None, n_jobs=None, n_neighbors=3, p=2,\n                     weights='uniform')"
     },
     "execution_count": 12,
     "metadata": {},
     "output_type": "execute_result"
    }
   ],
   "source": [
    "nbrs=neighbors.KNeighborsClassifier(n_neighbors=3)\n",
    "nbrs.fit(x_train,y_train)"
   ]
  },
  {
   "cell_type": "code",
   "execution_count": 13,
   "metadata": {},
   "outputs": [
    {
     "name": "stdout",
     "output_type": "stream",
     "text": "precision    recall  f1-score   support\n\n           0       1.00      1.00      1.00        45\n           1       0.98      1.00      0.99        46\n           2       1.00      1.00      1.00        44\n           3       0.94      0.98      0.96        46\n           4       1.00      0.98      0.99        45\n           5       1.00      1.00      1.00        46\n           6       1.00      1.00      1.00        45\n           7       0.98      1.00      0.99        45\n           8       1.00      0.95      0.98        43\n           9       0.98      0.96      0.97        45\n\n    accuracy                           0.99       450\n   macro avg       0.99      0.99      0.99       450\nweighted avg       0.99      0.99      0.99       450\n\n"
    }
   ],
   "source": [
    "y_pred=nbrs.predict(x_test)\n",
    "acc=metrics.classification_report(y_test,y_pred)\n",
    "print(acc)"
   ]
  },
  {
   "cell_type": "code",
   "execution_count": null,
   "metadata": {},
   "outputs": [],
   "source": []
  }
 ]
}